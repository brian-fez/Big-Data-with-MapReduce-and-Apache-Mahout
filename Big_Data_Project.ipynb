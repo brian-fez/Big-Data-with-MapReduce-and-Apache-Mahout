{
 "cells": [
  {
   "cell_type": "markdown",
   "metadata": {},
   "source": [
    "<a id=\"0\"></a>\n",
    "# Big Data with MapReduce and Apache Mahout"
   ]
  },
  {
   "cell_type": "markdown",
   "metadata": {},
   "source": [
    "### Content\n",
    "* [1. Report](#1)\n",
    "\n",
    "    * [1.1 Descriptive Statistics with MapReduce](#1.1)\n",
    "        * [1.1.1 Introduction](#1.1.1)\n",
    "        * [1.1.2 Results](#1.1.2)\n",
    "    * [1.2 Data Analysis with Apache Mahout](#1.2)\n",
    "        * [1.2.1 Introduction](#1.2.1)\n",
    "        * [1.2.2 Results](#1.2.2)\n",
    "\n",
    "* [2. Code](#2)\n",
    "\n",
    "    * [2.1 MapReduce](#2.1)\n",
    "        * [2.1.1 Descriptive Statistics with MapReduce](#2.1.1)\n",
    "    * [2.2 Mahout](#2.2)\n",
    "        * [2.2.1 K-Means Cluster with Mahout](#2.2.1)\n",
    "        * [2.2.2 Data Extraction and Analysis](#2.2.2)\n",
    "    \n",
    "* [References](#3)"
   ]
  },
  {
   "cell_type": "markdown",
   "metadata": {},
   "source": [
    "<a id=\"1\"></a>\n",
    "# 1. Report"
   ]
  },
  {
   "cell_type": "markdown",
   "metadata": {},
   "source": [
    "<a id=\"1.1\"></a>\n",
    "## 1.1 Descriptive Statistics with MapReduce"
   ]
  },
  {
   "cell_type": "markdown",
   "metadata": {},
   "source": [
    "<a id=\"1.1.1\"></a>\n",
    "### 1.1.1 Introduction"
   ]
  },
  {
   "cell_type": "markdown",
   "metadata": {},
   "source": [
    "In this project, we are going to use weather data from NCDC to find descriptive statistics for different weather parameters . The data is collected from different weather stations in July 2007 and is processed daily, from 01/07 to 19/07. To calculate the statistics, no libraries are used, only the MapReduce framework.\n",
    "\n",
    "MapReduce can be considered a programming paradigm capable of enabling massive scalability across a large number of servers in a Hadoop cluster. The MapReduce term refers to two separate jobs that are performed in the process. The first job is the mapping job. The mapping job takes a set of data as input and converts it into a set of key-value pairs. [1] The reduce job takes the output produced by the mapping job as input and combines the data into a smaller set. As implied by the name MapReduce, the map job is run before the reduce job. However, MapReduce has some limitations. The framework is not flexible. It has only one possible flow of execution. The framework can only offer solutions to problems that can be adapted to the MapReduce flow. In our case, since our aim was to extract some simple statistics from weather data, we managed to adapt to its flow. However, the amount of code written was high. This brings another limitation to the framework. the need for a lot of manual coding required even for simple common operations sunch as join, sort, filter etc. [2] \n",
    "\n",
    "There are many columns in the dataset, but the only columns of interest for our project are the observation date, the wind speed, relative humidity, dew point temperature, and dry bulb temperature. By selecting only this data, the observations can be grouped by day and statistics like daily maximum, daily minimum daily average and variance can be calculated.\n",
    "\n",
    "The pseudo-code for the map and reduce operations is shown below. For simplicity, for the reducer class only the mean function is shown. A separate reducer is used for every unique key or in this case date. For more information we could refer to the python code below."
   ]
  },
  {
   "cell_type": "markdown",
   "metadata": {},
   "source": [
    "**class Mapper**\n",
    "\n",
    "```\n",
    "FOR EACH dataset row\n",
    "\tSET the key to the observation date\n",
    "\tSET the value as [dry bulb temperature, dew point temperature, humidity, wind speed]\n",
    "\tOUTPUT the key/value pair\n",
    "END\n",
    "```\n",
    "\n",
    "**class Reducer**\n",
    "\n",
    "```\n",
    "SET sum = 0\n",
    "SET n = 0\n",
    "FOR EACH key/value pair coming from the mapper\n",
    "\tSET n = n + 1\n",
    "\tSET sum = sum + value\n",
    "END\n",
    "SET mean = sum / n\n",
    "```"
   ]
  },
  {
   "cell_type": "markdown",
   "metadata": {},
   "source": [
    "<a id=\"1.1.2\"></a>\n",
    "### 1.1.2 Results"
   ]
  },
  {
   "cell_type": "markdown",
   "metadata": {},
   "source": [
    "After applying the Map and Reducer to the weather data, a file with 19 rows of strings (one for each day) and a correlation matrix that describes the monthly correlation among, Humidity, Wind_Speed, and Dry_Bulb_Temp will be produced. Each row contains the following values separated by commas:\n",
    "\n",
    "*Day (YYYYMMDD), difference between Wind_Speed maximum and minimum, Humidity minimum, Dew_Point_Temp mean, and Dew_Point_Temp variance*\n",
    "\n",
    "e.g.\n",
    "*20070701, 31, 2, 54.4, 179.319630*\n",
    "\n",
    "From the results we can say that Relative Humidity is negatively correlated to Wind_Speed and Dew_Point_Temperature. On the last day 19/07 the humidity is higher than the other days meaning that it has rained. The difference between the maximum and minimum wind speed is lower, the mean of dew point temperature is higher, and its variance is lower than the other days. The range of wind speed difference except for a couple of days is between 30 and 40. The humidity minimum values are low except for the last day. The same thing stands for the dew point temperature. However, its variance is higher in the other days and lower in the last day."
   ]
  },
  {
   "cell_type": "markdown",
   "metadata": {},
   "source": [
    "<a id=\"1.2\"></a>\n",
    "## 1.2 Data Analysis with Apache Mahout"
   ]
  },
  {
   "cell_type": "markdown",
   "metadata": {},
   "source": [
    "<a id=\"1.2.1\"></a>\n",
    "### 1.2.1 Introduction"
   ]
  },
  {
   "cell_type": "markdown",
   "metadata": {},
   "source": [
    "The answer to this question is divided into two parts. In the first part we are going to perform a cluster analysis using only Apache Mahout. In the second part we are going to apply some data analysis to compare the performance of different clusters, plot the elbow graph and find the best number of k and distance measure.\n",
    "\n",
    "The command-line tools of Apache Mahout are used to convert the dataset to a suitable file format for processing by Hadoop, create a TF-IDF feature matrix, and perform clustering with the K-Means algorithm."
   ]
  },
  {
   "cell_type": "markdown",
   "metadata": {},
   "source": [
    "**K-Means Clustering**\n",
    "\n",
    "K-Means Clustering is an unsupervised algorithm. It groups an unlabelled set of data into different K clusters, where K is the number of clusters. Each of these clusters is associated with a centroid. The algorithm aims to minimize the sum of distances between the data points present in a cluster and their centroids.\n",
    "The K-Means clustering algorithm has the following steps:\n",
    "\n",
    "1. Select the number of K's.\n",
    "2. Select random number of K points as centroids.\n",
    "3. Assign each remaining point to the nearest centroid.\n",
    "4. Re-calculate centroids\n",
    "5. Repeat steps 3 and 4 until there are no more changes.\n",
    "\n",
    "**Apache Mahout**\n",
    "\n",
    "Apache Mahout is an open-source project. It is mostly used for creating scalable machine learning algorithms. Mahout operates in addition to Hadoop framework, that allows the application of machine learning techniques using distributed computing. Mahout's algorithms include, clustering, recommendation mining, classification, etc.\n",
    "\n",
    "**Mahout Limitations**\n",
    "\n",
    "During this project there were no problems encountered with Mahout, probably because the british-corpus data was relatively small. However, according to different sources it is inefficient compared to other frameworks. It tends to run out of memory if the dataset is too large and some algorithms are not supported. Furthermore, there is a shortage of support. Other framework like MLlib offer faster computing time. [3] [4]"
   ]
  },
  {
   "cell_type": "markdown",
   "metadata": {},
   "source": [
    "<a id=\"1.2.2\"></a>\n",
    "### 1.2.2 Results"
   ]
  },
  {
   "cell_type": "markdown",
   "metadata": {},
   "source": [
    "To decide which is the best setting for K-Means clustering for this dataset, we are going to analyze the inter cluster, intra cluster density and density ratio extracted from the Mahout cluster dumps. The best setting is the one that produces clusters where the data points are similar and therefore densely packed. Furthermore, the best setting produces clusters that are different between them. So, in our case, the best distance measure has the lowest inter cluster density and the highest intra cluster and density ratio.\n",
    "\n",
    "After computing the experiments, we can say that as the number of K increases, the average point distance for all distance measures decreases. The best distance measure is Manhattan because it has a higher intra cluster density and density ratio. Another good distance measure was the Euclidean distance measure, while Cosine performed the worst in all experiments. However, to produce more significant results, it would be necessary to extend the number of K's taken into consideration.\n",
    "\n",
    "One way of finding the optimum number of clusters for the K-Means clustering algorithm is the Elbow Method. It is often used to determine the point of diminishing returns for selecting the K value. The Elbow method helps finding the best number of clusters, by using the WCSS values concept. WCSS stands for Within Cluster Sum of Squares and defines the total variations within a cluster. To find the optimal number of clusters, the elbow method follows four steps:\n",
    "\n",
    "1. Run the cluster algorithm for different K values.\n",
    "2. Calculate the sum of squares WCSS value for each K.\n",
    "3. Plot a curve between sum of squares values and the number of clusters.\n",
    "4. The sharp point of the bend is then considered as the optimal value for the number of clusters K.\n",
    "\n",
    "For the cosine and euclidean distance measures the elbow point is not so clear, so to find the optimum number of clusters we might need to try a larger number of k. For the Manhattan distance measure, we could say that the optimum number of K is 8."
   ]
  },
  {
   "cell_type": "markdown",
   "metadata": {},
   "source": [
    "<a id=\"2\"></a>\n",
    "# 2. Code"
   ]
  },
  {
   "cell_type": "markdown",
   "metadata": {},
   "source": [
    "<a id=\"2.1\"></a>\n",
    "## 2.1 MapReduce"
   ]
  },
  {
   "cell_type": "markdown",
   "metadata": {},
   "source": [
    "<a id=\"2.1.1\"></a>\n",
    "### 2.1.1 Descriptive Statistics with MapReduce"
   ]
  },
  {
   "cell_type": "markdown",
   "metadata": {},
   "source": [
    "This Jupyter notebook is intended as a report which explains the mapper and reducer classes and runs the statistics in the local machine. Screenshots of the terminal can be seen in the mapreduce_terminal.pdf file present in the same directory as this notebook. **To run the analysis in the cluster the following code needs to be inserted in the cluster terminal after creating a dsm010/cw_question_1 local file and uploading 200707hourly.txt, mapper.py, and reducer.py**\n",
    "These files, except from the weather data(200707hourly.txt), can be found in the same directory.\n",
    "```bash\n",
    "# removes existing output\n",
    "hadoop fs -rm -r cwq1_output\n",
    "hadoop fs -rm -r dsm010/cw_question_1\n",
    "hadoop fs -copyFromLocal dsm010/cw_question_1 dsm010\n",
    "# executes the job\n",
    "hadoop jar /opt/hadoop/current/share/hadoop/tools/lib/hadoop-streaming-3.3.0.jar \\\n",
    "    -input dsm010/cw_question_1/200707hourly.txt \\\n",
    "    -output cwq1_output \\\n",
    "    -file dsm010/cw_question_1/mapper.py \\\n",
    "    -mapper mapper.py \\\n",
    "    -file dsm010/cw_question_1/reducer.py \\\n",
    "    -reducer reducer.py\n",
    "\n",
    "# shows the output\n",
    "hadoop fs -cat cwq1_output/part-00000\n",
    "```"
   ]
  },
  {
   "cell_type": "code",
   "execution_count": 1,
   "metadata": {},
   "outputs": [],
   "source": [
    "class Mapping():\n",
    "    \"\"\"\n",
    "    Class for implementing the mapping process.\n",
    "    \"\"\"\n",
    "    def input_map(self, data_input):\n",
    "        \"\"\"\n",
    "        Function that maps each input to the output.\n",
    "        Parameter\n",
    "        ----------\n",
    "        input_data : iterable\n",
    "            Data to be processed.\n",
    "        \"\"\"\n",
    "        data_output = []\n",
    "\n",
    "        for element in data_input:\n",
    "            mapped_element = self.map_function(element)\n",
    "            if mapped_element:\n",
    "                print(mapped_element)\n",
    "\n",
    "        return data_output\n",
    "\n",
    "    def map_function(self, element):\n",
    "        \"\"\"\n",
    "        Function for mapping the input to the day the observations the dry bulb temperature, dew point temperature, \n",
    "            humidity, wind speed values.\n",
    "\n",
    "        Parameters\n",
    "        ----------\n",
    "        item : str\n",
    "            The data to be mapped.\n",
    "\n",
    "        Returns\n",
    "        -------\n",
    "        output : str\n",
    "            String that contains the date format YYYYMMDD and dry bulb temperature, dew point temperature , \n",
    "            humidity and wind speed.\n",
    "        \"\"\"\n",
    "        # code for ignoring the headers of the file\n",
    "        if element.startswith('Wban Number'):\n",
    "            return None\n",
    "\n",
    "        # code for ignoring empty lines\n",
    "        if element == '\\n':\n",
    "            return None\n",
    "\n",
    "        # input tokenization\n",
    "        token = element.split(',')\n",
    "\n",
    "        # extract the day value\n",
    "        day = token[1].strip()\n",
    "\n",
    "        # code for extracting the dry bulb temperature, dew point, humidity, wind speed\n",
    "        dry_bulb_temp_value = token[8].strip()\n",
    "        dew_point_value = token[9].strip()\n",
    "        humidity_value = token[11].strip()\n",
    "        wind_speed_value = token[12].strip()\n",
    "        # will not process empty or wrong values\n",
    "        for i in (dry_bulb_temp_value, dew_point_value, humidity_value, wind_speed_value):\n",
    "            if i in  ['-','','/0','//','`0']:\n",
    "                return None\n",
    "            else:\n",
    "                i = int(i)\n",
    "\n",
    "        # return the key and values\n",
    "        return '%s,%s,%s,%s,%s' % (day, dry_bulb_temp_value, dew_point_value, humidity_value, wind_speed_value)"
   ]
  },
  {
   "cell_type": "code",
   "execution_count": 2,
   "metadata": {},
   "outputs": [],
   "source": [
    "class Help_reduce():\n",
    "    \"\"\"\n",
    "    Class that contains some helping functions and the values that are going to be calculated from\n",
    "    the reducing function.\n",
    "    \"\"\"\n",
    "    def __init__(self, day):\n",
    "        self.day = day\n",
    "        self.wind_speed_values = []\n",
    "        self.humidity_values = []\n",
    "        self.dew_point_values = []\n",
    "        self.dry_bulb_temp_values=[]\n",
    "        self.wind_speed_daily_max = None\n",
    "        self.wind_speed_daily_min = None\n",
    "        self.humidity_daily_min = None\n",
    "        self.dew_point_values_sum = 0\n",
    "        self.dew_point_values_squared_sum = 0\n",
    "        self.dew_point_values_n = 0\n",
    "\n",
    "    def add_value(self, wind_speed_value, humidity_value, dew_point_value,dry_bulb_temp_value) -> None:\n",
    "        \"\"\"\n",
    "        Add a value to the value collection.\n",
    "        \n",
    "        Parameters\n",
    "        ----------\n",
    "        wind_speed_value, humidity_value, dew_point_value,dry_bulb_temp_value : str\n",
    "            The output from the mapper.\n",
    "        \"\"\"\n",
    "        # add the value to the collection\n",
    "        self.wind_speed_values.append(wind_speed_value)\n",
    "        self.humidity_values.append(humidity_value)\n",
    "        self.dew_point_values.append(dew_point_value)\n",
    "        self.dry_bulb_temp_values.append(dry_bulb_temp_value)\n",
    "        # update the maximum and minimum values\n",
    "        if self.wind_speed_daily_max is None:\n",
    "            # initializing maximum and minimum values\n",
    "            self.wind_speed_daily_max = wind_speed_value\n",
    "            self.wind_speed_daily_min = wind_speed_value\n",
    "        else:\n",
    "            if wind_speed_value > self.wind_speed_daily_max: self.wind_speed_daily_max = wind_speed_value\n",
    "            if wind_speed_value < self.wind_speed_daily_min: self.wind_speed_daily_min = wind_speed_value\n",
    "        \n",
    "        # update maximums and minimums\n",
    "        if self.humidity_daily_min is None:\n",
    "            # initializing maximum and mininimum values\n",
    "            self.humidity_daily_min = humidity_value\n",
    "        else:\n",
    "            if humidity_value < self.humidity_daily_min: self.humidity_daily_min = humidity_value\n",
    "        # update \"running\" values\n",
    "        self.dew_point_values_n += 1\n",
    "        self.dew_point_values_sum += dew_point_value\n",
    "        self.dew_point_values_squared_sum += dew_point_value * dew_point_value\n",
    "        \n",
    "    def variance_function(self) -> float:\n",
    "        \"\"\"\n",
    "        Function for calculating and returning the variance.\n",
    "\n",
    "        \"\"\"\n",
    "        mean = self.dew_point_values_sum / float(self.dew_point_values_n)\n",
    "\n",
    "        return  (1.0 / self.dew_point_values_n) * (self.dew_point_values_squared_sum - self.dew_point_values_n * mean*mean)\n",
    "        \n",
    "    def combinations(self):\n",
    "        \"\"\"\n",
    "        Calculate the correlation of the values.\n",
    "        \"\"\"\n",
    "        correlations=[]\n",
    "        for i in [self.wind_speed_values,self.humidity_values,self.dry_bulb_temp_values]:\n",
    "            for j in [self.wind_speed_values,self.humidity_values,self.dry_bulb_temp_values]:\n",
    "                mi = sum(i)/len(i)\n",
    "                mj = sum(j)/len(j)\n",
    "                cov = sum((a - mi) * (b - mj) for (a,b) in zip(i,j)) / len(i)\n",
    "                stdevi = (sum((a - mi)**2 for a in i)/len(i))**0.5\n",
    "                stdevj = (sum((b - mj)**2 for b in j)/len(j))**0.5\n",
    "                result = round(cov/(stdevi*stdevj),3)\n",
    "                #print(result)\n",
    "                correlations.append(result)\n",
    "        return correlations\n",
    "    \n",
    "    def create_matrix(self,correlation):\n",
    "        \"\"\"\n",
    "        Creates a matrix with the correlations.\n",
    "        \n",
    "        Parameters\n",
    "        ----------\n",
    "        correlation : str\n",
    "            correlation between values.\n",
    "        \"\"\"\n",
    "        sqrt = int(len(correlation) ** 0.5)\n",
    "        matrix = []\n",
    "        while correlation != []:\n",
    "            matrix.append(correlation[:sqrt])\n",
    "            correlation = correlation[sqrt:]\n",
    "        return matrix\n",
    "\n",
    "        \n",
    "    \n",
    "    def output(self) -> None:\n",
    "        \"\"\"\n",
    "        Print the day values to stdout.\n",
    "       \n",
    "        \"\"\"\n",
    "        # calculate the mean\n",
    "        wind_speed_daily_difference = self.wind_speed_daily_max - self.wind_speed_daily_min\n",
    "        dew_point_values_mean = self.dew_point_values_sum / float(self.dew_point_values_n)\n",
    "        # print the output\n",
    "        print('%s, %d, %d, %.1f, %.6f' % (\n",
    "            self.day,\n",
    "            wind_speed_daily_difference,\n",
    "            self.humidity_daily_min,\n",
    "            dew_point_values_mean,\n",
    "            self.variance_function()\n",
    "            ))\n",
    "\n",
    "class Reducing():\n",
    "    \"\"\"\n",
    "    Class for summarizing the observations for each day.\n",
    "    \"\"\"\n",
    "    def input_reduce(self, input_data):\n",
    "        \"\"\"\n",
    "        Function that reduces the output of the mapper \n",
    "        to calculate the maximum, minimum, mean, variance, correlation and matrix.\n",
    "\n",
    "        Parameter\n",
    "        ----------\n",
    "        input_data : iterable\n",
    "            The input data that is going to be processed.\n",
    "        \"\"\"\n",
    "        current_day = Help_reduce(None)\n",
    "        for element in input_data:\n",
    "            if element:\n",
    "                # get the day and values\n",
    "                day_value, dry_bulb_temp_value,dew_point_value, humidity_value, wind_speed_value = element.split(',')       \n",
    "                day_value = str(day_value)\n",
    "                wind_speed_value = int(wind_speed_value)\n",
    "                humidity_value = int(humidity_value)\n",
    "                dew_point_value = int(dew_point_value)\n",
    "                dry_bulb_temp_value = int(dry_bulb_temp_value)\n",
    "                \n",
    "                if current_day.day == day_value:\n",
    "                    current_day.add_value(wind_speed_value, humidity_value, dew_point_value,dry_bulb_temp_value)\n",
    "                else:\n",
    "                    # show the output if the current day exists\n",
    "                    if current_day.day:\n",
    "                        current_day.output()\n",
    "\n",
    "                    # create the new day\n",
    "                    current_day = Help_reduce(day_value)\n",
    "                    current_day.add_value(wind_speed_value, humidity_value, dew_point_value, dry_bulb_temp_value)\n",
    "\n",
    "        # print the last processed day\n",
    "        if current_day.day == day_value:\n",
    "            current_day.output()   \n",
    "        print (current_day.create_matrix(current_day.combinations()))"
   ]
  },
  {
   "cell_type": "code",
   "execution_count": 3,
   "metadata": {},
   "outputs": [
    {
     "name": "stdout",
     "output_type": "stream",
     "text": [
      "20070701, 31, 2, 54.4, 179.319630\n",
      "20070702, 80, 2, 54.9, 172.632865\n",
      "20070703, 37, 3, 57.3, 157.355049\n",
      "20070704, 29, 3, 59.6, 123.422502\n",
      "20070705, 37, 3, 60.2, 108.453107\n",
      "20070706, 64, 3, 59.4, 105.319097\n",
      "20070707, 51, 3, 59.8, 116.194016\n",
      "20070708, 37, 3, 61.2, 121.792187\n",
      "20070709, 36, 2, 61.5, 132.658168\n",
      "20070710, 40, 4, 61.2, 137.674701\n",
      "20070711, 37, 2, 59.1, 125.504252\n",
      "20070712, 32, 4, 56.9, 104.966661\n",
      "20070713, 31, 3, 57.0, 102.279520\n",
      "20070714, 30, 5, 58.2, 92.490864\n",
      "20070715, 36, 6, 59.1, 98.703993\n",
      "20070716, 35, 6, 59.6, 103.332373\n",
      "20070717, 35, 4, 61.6, 93.915360\n",
      "20070718, 39, 4, 63.6, 87.632828\n",
      "20070719, 12, 63, 74.8, 2.007822\n",
      "[[1.0, -0.426, 0.373], [-0.426, 1.0, -0.942], [0.373, -0.942, 1.0]]\n"
     ]
    }
   ],
   "source": [
    "with open('/home/bfezo001/dsm010/cw_question_1/200707hourly.txt') as input_file:\n",
    "    mapper = Mapping()\n",
    "    reducer = Reducing()\n",
    "    \n",
    "    # perform the mapping task\n",
    "    mapper_output = map(mapper.map_function, input_file)\n",
    "\n",
    "   # remove null values and sort the mapped output\n",
    "    mapper_output = list(filter(None, mapper_output))\n",
    "    mapper_output.sort()\n",
    "    # perform the reduce function\n",
    "    reducer.input_reduce(mapper_output)"
   ]
  },
  {
   "cell_type": "markdown",
   "metadata": {},
   "source": [
    "<a id=\"2.2\"></a>\n",
    "## 2.2 Mahout"
   ]
  },
  {
   "cell_type": "markdown",
   "metadata": {},
   "source": [
    "<a id=\"2.2.1\"></a>\n",
    "### 2.2.1 K-Means Cluster with Mahout"
   ]
  },
  {
   "cell_type": "markdown",
   "metadata": {},
   "source": [
    "This Jupyter notebook is intended as a report and only shows the code but does not run it. Screenshots of the terminal can be seen in the mahout_terminal.pdf file present in the same directory as this notebook. The code present in the subsections from \"Upload data to hadoop file system\" until \"Hyperparameters\" can be run in the command prompt. **First, before running the code we need to create a dsm010/cw_01 directory in the local machine where the british-fiction-corpus can be uploaded, then run the code.** The british-fiction-corpus dataset can be found in Topic 4."
   ]
  },
  {
   "cell_type": "markdown",
   "metadata": {},
   "source": [
    "#### Upload data to hadoop file system\n",
    "\n",
    "```bash\n",
    "# make directory\n",
    "hadoop fs -mkdir dsm010/question_2\n",
    "# copy files from local to hdfs\n",
    "hadoop fs -copyFromLocal dsm010/cw_01/british-fiction-corpus dsm010/question_2\n",
    "# list files present in the directory\n",
    "hadoop fs -ls dsm010/question_2/british-fiction-corpus\n",
    "```"
   ]
  },
  {
   "cell_type": "markdown",
   "metadata": {},
   "source": [
    "#### Create sequence files from the raw text using Mahout\n",
    "SequenceFiles consist of key/value pairs. Each document is represented as a key-value pair. The key is the document ID\n",
    "while the value is the content\n",
    "```bash\n",
    "mahout seqdirectory \\\n",
    "     -i dsm010/question_2/british-fiction-corpus \\\n",
    "     -o dsm010/question_2/british-fiction-corpus-seqfiles \\\n",
    "     -c UTF-8 \\\n",
    "     -chunk 5\n",
    "```"
   ]
  },
  {
   "cell_type": "markdown",
   "metadata": {},
   "source": [
    "#### Create a sparse (efficient) representation of the vectors using Mahout\n",
    "\n",
    "```bash\n",
    "mahout seq2sparse \\\n",
    "     -nv \\\n",
    "     -i dsm010/question_2/british-fiction-corpus-seqfiles \\\n",
    "     -o dsm010/question_2/british-fiction-corpus-vectors \\\n",
    "\n",
    "# list the generated output in HDFS\n",
    "hadoop fs -ls dsm010/question_2/british-fiction-corpus-vectors/tf-vectors\n",
    "hadoop fs -ls dsm010/question_2/british-fiction-corpus-vectors/tfidf-vectors\n",
    "\n",
    "# we can generate “canopies”, which will help approximate centroids for K-Means\n",
    "mahout canopy \\\n",
    "    -i dsm010/question_2/british-fiction-corpus-vectors/tf-vectors \\\n",
    "    -ow \\\n",
    "    -o dsm010/question_2/british-fiction-corpus-canopy-centroids \\\n",
    "    -dm org.apache.mahout.common.distance.CosineDistanceMeasure \\\n",
    "    -t1 0.5 \\\n",
    "    -t2 0.3\n",
    "\n",
    "#t1 is known as loose distance and t2 is known as tight distance and t1 > t2. t1 and t2 values must be compatible with the selected distance measure. Let’s have a look at what was generated:\n",
    "hadoop fs -ls dsm010/question_2/british-fiction-corpus-canopy-centroids/\n",
    "```"
   ]
  },
  {
   "cell_type": "markdown",
   "metadata": {},
   "source": [
    "Output"
   ]
  },
  {
   "cell_type": "markdown",
   "metadata": {},
   "source": [
    "```bash\n",
    "Found 1 items\n",
    "drwxr-xr-x   - bfezo001 users          0 2023-01-04 13:44 dsm010/question_2/british-fiction-corpus-canopy-centroids/clusters-0-final\n",
    "```"
   ]
  },
  {
   "cell_type": "markdown",
   "metadata": {},
   "source": [
    "#### Run the K-Means algorithm with Mahout\n",
    "```bash\n",
    "mahout kmeans \\\n",
    "    -i dsm010/question_2/british-fiction-corpus-vectors/tf-vectors \\\n",
    "    -c dsm010/question_2/british-fiction-corpus-canopy-centroids \\\n",
    "    -o hdfs://lena/user/bfezo001/dsm010/question_2/british-fiction-corpus-kmeans-clusters \\\n",
    "    -dm org.apache.mahout.common.distance.CosineDistanceMeasure \\\n",
    "    -cl -cd 0.1 -ow -x 20 \\\n",
    "    -k 10\n",
    "```"
   ]
  },
  {
   "cell_type": "markdown",
   "metadata": {},
   "source": [
    "#### Find the ‘final’ iteration’s clustering solution\n",
    "```bash\n",
    "hadoop fs -ls dsm010/question_2/british-fiction-corpus-kmeans-clusters\n",
    "```"
   ]
  },
  {
   "cell_type": "markdown",
   "metadata": {},
   "source": [
    "Output"
   ]
  },
  {
   "cell_type": "markdown",
   "metadata": {},
   "source": [
    "```bash\n",
    "Found 5 items\n",
    "-rw-r--r--   3 bfezo001 users        194 2023-01-04 13:50 dsm010/question_2/british-fiction-corpus-kmeans-clusters/_policy\n",
    "drwxr-xr-x   - bfezo001 users          0 2023-01-04 13:50 dsm010/question_2/british-fiction-corpus-kmeans-clusters/clusteredPoints\n",
    "drwxr-xr-x   - bfezo001 users          0 2023-01-04 13:49 dsm010/question_2/british-fiction-corpus-kmeans-clusters/clusters-0\n",
    "drwxr-xr-x   - bfezo001 users          0 2023-01-04 13:50 dsm010/question_2/british-fiction-corpus-kmeans-clusters/clusters-1\n",
    "drwxr-xr-x   - bfezo001 users          0 2023-01-04 13:50 dsm010/question_2/british-fiction-corpus-kmeans-clusters/clusters-2-final\n",
    "```"
   ]
  },
  {
   "cell_type": "markdown",
   "metadata": {},
   "source": [
    "#### Evaluate the solution\n",
    "```bash\n",
    "mahout clusterdump \\\n",
    "    -dt sequencefile \\\n",
    "    -d dsm010/question_2/british-fiction-corpus-vectors/dictionary.file-* \\\n",
    "    -i dsm010/question_2/british-fiction-corpus-kmeans-clusters/clusters-2-final  \\\n",
    "    -o ~/dsm010/question_2/output/british-fiction-corpus-clusters.txt -b 100 \\\n",
    "    -p dsm010/question_2/british-fiction-corpus-kmeans-clusters/clusteredPoints \\\n",
    "    -n 20 --evaluate\n",
    "\n",
    "# The final lines give a statistical evaluation of the clustering solution.\n",
    "tail -n 5 ~/dsm010/question_2/output/british-fiction-corpus-clusters.txt\n",
    "```"
   ]
  },
  {
   "cell_type": "markdown",
   "metadata": {},
   "source": [
    "Output"
   ]
  },
  {
   "cell_type": "markdown",
   "metadata": {},
   "source": [
    "```bash\n",
    "Inter-Cluster Density: 0.39323821383258706\n",
    "Intra-Cluster Density: 0.5254062280354826\n",
    "CDbw Inter-Cluster Density: 0.0\n",
    "CDbw Intra-Cluster Density: 0.7395510404138697\n",
    "CDbw Separation: 2.3556367404655644E8\n",
    "```"
   ]
  },
  {
   "cell_type": "markdown",
   "metadata": {},
   "source": [
    "#### Hyperparameters\n",
    "\n",
    "```bash\n",
    "# range to use for k\n",
    "k_start=1\n",
    "k_end=10\n",
    "\n",
    "# vectors and dictionary path\n",
    "path_vectors=dsm010/question_2/british-fiction-corpus-vectors/tf-vectors\n",
    "path_dictionary=dsm010/question_2/british-fiction-corpus-vectors/dictionary.file-*\n",
    "\n",
    "# clusters output base path and result's local output path\n",
    "path_hdfs_base=hdfs://lena/user/bfezo001/\n",
    "path_clusters_base=dsm010/question_2/british-fiction-corpus-kmeans\n",
    "path_results_base=~/dsm010/question_2/output/british-fiction-corpus-clusters\n",
    "\n",
    "# distance metrics used Cosine, Euclidean, Manhattan\n",
    "distance_metrics=(\"org.apache.mahout.common.distance.CosineDistanceMeasure\" \"org.apache.mahout.common.distance.EuclideanDistanceMeasure\" \"org.apache.mahout.common.distance.ManhattanDistanceMeasure\")\n",
    "\n",
    "for distance_metric in \"${distance_metrics[@]}\"\n",
    "do\n",
    "  echo \"--- Distance Metric: $distance_metric\"\n",
    "\n",
    "    # perform the canopy clustering\n",
    "    distance_name=${distance_metric##*.}\n",
    "    path_centroids=dsm010/question_2/british-fiction-corpus-canopy-centroids/${distance_name}\n",
    "\n",
    "    mahout canopy \\\n",
    "      -i $path_vectors \\\n",
    "      -ow \\\n",
    "      -o $path_centroids \\\n",
    "      -dm $distance_metric \\\n",
    "      -t1 0.5 \\\n",
    "      -t2 0.3\n",
    "\n",
    "  for ((k = $k_start; k <= $k_end; k++))\n",
    "  do\n",
    "    \n",
    "    k_padded=$(printf %02d $k)\n",
    "\n",
    "    # set the output path for the clusters\n",
    "    path_clusters=\"${path_clusters_base}/${distance_name}/${k_padded}\"\n",
    "\n",
    "    echo \"---- K: $k_padded -- $path_clusters\"\n",
    "\n",
    "    # run k-means clustering\n",
    "    mahout kmeans \\\n",
    "    -i $path_vectors \\\n",
    "    -c $path_centroids \\\n",
    "    -o \"${path_hdfs_base}${path_clusters}\" \\\n",
    "    -ow \\\n",
    "    -dm $distance_metric \\\n",
    "    -cl -cd 0.1 -ow -x 20 \\\n",
    "    -k $k\n",
    "\n",
    "    # set the path for output\n",
    "    path_final_clusters=`hadoop fs -ls -d -C \"${path_clusters}/clusters-*-final\"`\n",
    "    path_clusterpoints=\"${path_clusters}/clusteredPoints\"\n",
    "    path_results=\"${path_results_base}/${distance_name}/${k_padded}.txt\"\n",
    "\n",
    "    # results output\n",
    "    mahout clusterdump -dt sequencefile \\\n",
    "       -d $path_dictionary \\\n",
    "       -i $path_final_clusters  \\\n",
    "       -o $path_results \\\n",
    "       -of TEXT \\\n",
    "       -b 100 \\\n",
    "       -p $path_clusterpoints \\\n",
    "       -dm $distance_metric \\\n",
    "       -n 20 --evaluate\n",
    "  done  \n",
    "done\n",
    "```"
   ]
  },
  {
   "cell_type": "markdown",
   "metadata": {},
   "source": [
    "<a id=\"2.2.2\"></a>\n",
    "### 2.2.2 Data Extraction and Analysis"
   ]
  },
  {
   "cell_type": "markdown",
   "metadata": {},
   "source": [
    "For the data analysis part we are going to extract the data from the Mahout cluster dumps"
   ]
  },
  {
   "cell_type": "code",
   "execution_count": 4,
   "metadata": {},
   "outputs": [],
   "source": [
    "# import necessary libraries\n",
    "import os\n",
    "import re\n",
    "import logging\n",
    "import pandas as pd\n",
    "import numpy as np\n",
    "from sklearn import preprocessing\n",
    "import matplotlib.pyplot as plt\n",
    "import seaborn as sns"
   ]
  },
  {
   "cell_type": "markdown",
   "metadata": {},
   "source": [
    "Extract the data produced by Mahout. **To be able to do the data extraction we need to run the above mahout code in the terminal to create the folder output/british-fiction-corpus-clusters. The folder cannot be uploaded in this coursework because it is bigger than 120 MB.**"
   ]
  },
  {
   "cell_type": "code",
   "execution_count": 5,
   "metadata": {},
   "outputs": [
    {
     "data": {
      "text/html": [
       "<div>\n",
       "<style scoped>\n",
       "    .dataframe tbody tr th:only-of-type {\n",
       "        vertical-align: middle;\n",
       "    }\n",
       "\n",
       "    .dataframe tbody tr th {\n",
       "        vertical-align: top;\n",
       "    }\n",
       "\n",
       "    .dataframe thead th {\n",
       "        text-align: right;\n",
       "    }\n",
       "</style>\n",
       "<table border=\"1\" class=\"dataframe\">\n",
       "  <thead>\n",
       "    <tr style=\"text-align: right;\">\n",
       "      <th></th>\n",
       "      <th>cluster_identifier</th>\n",
       "      <th>point_distance</th>\n",
       "      <th>inter_cluster_density</th>\n",
       "      <th>intra_cluster_density</th>\n",
       "      <th>distance_measure</th>\n",
       "      <th>k</th>\n",
       "    </tr>\n",
       "  </thead>\n",
       "  <tbody>\n",
       "    <tr>\n",
       "      <th>438</th>\n",
       "      <td>VL-5</td>\n",
       "      <td>867.787294</td>\n",
       "      <td>NaN</td>\n",
       "      <td>0.7147719780730082</td>\n",
       "      <td>Euclidean</td>\n",
       "      <td>02</td>\n",
       "    </tr>\n",
       "    <tr>\n",
       "      <th>188</th>\n",
       "      <td>VL-21</td>\n",
       "      <td>0.314133</td>\n",
       "      <td>NaN</td>\n",
       "      <td>0.667046448783313</td>\n",
       "      <td>Cosine</td>\n",
       "      <td>02</td>\n",
       "    </tr>\n",
       "    <tr>\n",
       "      <th>472</th>\n",
       "      <td>VL-23</td>\n",
       "      <td>1941.785487</td>\n",
       "      <td>NaN</td>\n",
       "      <td>0.7151365780668429</td>\n",
       "      <td>Euclidean</td>\n",
       "      <td>01</td>\n",
       "    </tr>\n",
       "    <tr>\n",
       "      <th>241</th>\n",
       "      <td>VL-21</td>\n",
       "      <td>0.505650</td>\n",
       "      <td>0.6853061757770863</td>\n",
       "      <td>0.5693612777429371</td>\n",
       "      <td>Cosine</td>\n",
       "      <td>09</td>\n",
       "    </tr>\n",
       "    <tr>\n",
       "      <th>622</th>\n",
       "      <td>VL-0</td>\n",
       "      <td>28917.333333</td>\n",
       "      <td>0.35303095125361245</td>\n",
       "      <td>0.5785388355386845</td>\n",
       "      <td>Manhattan</td>\n",
       "      <td>10</td>\n",
       "    </tr>\n",
       "  </tbody>\n",
       "</table>\n",
       "</div>"
      ],
      "text/plain": [
       "    cluster_identifier  point_distance inter_cluster_density  \\\n",
       "438               VL-5      867.787294                   NaN   \n",
       "188              VL-21        0.314133                   NaN   \n",
       "472              VL-23     1941.785487                   NaN   \n",
       "241              VL-21        0.505650    0.6853061757770863   \n",
       "622               VL-0    28917.333333   0.35303095125361245   \n",
       "\n",
       "    intra_cluster_density distance_measure   k  \n",
       "438    0.7147719780730082        Euclidean  02  \n",
       "188     0.667046448783313           Cosine  02  \n",
       "472    0.7151365780668429        Euclidean  01  \n",
       "241    0.5693612777429371           Cosine  09  \n",
       "622    0.5785388355386845        Manhattan  10  "
      ]
     },
     "execution_count": 5,
     "metadata": {},
     "output_type": "execute_result"
    }
   ],
   "source": [
    "class DataExtraction():\n",
    "    \"\"\"\n",
    "    Extract data from mahout clusterdump.\n",
    "    \"\"\"\n",
    "    def file(self, file_path:str) -> tuple:\n",
    "        \"\"\"\n",
    "        Process the file and extract the data.\n",
    "\n",
    "        Returns\n",
    "        -------\n",
    "        output_data : pandas.DataFrame\n",
    "            The DataFrame will contain the following columns: cluster_identifier, point_distance, inter_cluster_density, intra_cluster_density\n",
    "        \"\"\"\n",
    "        logging.info('- Processing: %s' % file_path)\n",
    "\n",
    "        raw_data = []\n",
    "        current_cluster = None\n",
    "        inter_cluster_density = None\n",
    "        intra_cluster_density = None\n",
    "\n",
    "        # load the values from the text file\n",
    "        with open(file_path) as file:\n",
    "            while (line := file.readline()):\n",
    "                if cluster_identifier := re.search(r'^:{\"identifier\":\"(.+?)\"', line): # start of a new cluster\n",
    "                    current_cluster = cluster_identifier.group(1)\n",
    "                    logging.info('-- Cluster: %s' % current_cluster)\n",
    "                elif point_distance := re.match(r'^\\s*.+? : \\[distance=(.+?)\\]', line): # handle a point in the cluster\n",
    "                    point_distance = float(point_distance.group(1))\n",
    "\n",
    "                    # add the point to the raw data\n",
    "                    raw_data.append({\n",
    "                        'cluster_identifier': current_cluster,\n",
    "                        'point_distance': point_distance\n",
    "                    })\n",
    "                elif density_match := re.match(r'^Inter-Cluster Density:\\s(.+)', line): # match the inter density line\n",
    "                    inter_cluster_density = density_match.group(1)\n",
    "                    logging.info('--- Inter-Cluster Density: %s', inter_cluster_density)\n",
    "                elif density_match := re.match(r'^Intra-Cluster Density:\\s(.+)', line): # match the intra density line\n",
    "                    intra_cluster_density = density_match.group(1)\n",
    "                    logging.info('--- Intra-Cluster Density: %s', intra_cluster_density)\n",
    "\n",
    "        # create the output dataframe\n",
    "        output_data = pd.DataFrame(raw_data)\n",
    "        output_data['inter_cluster_density'] = inter_cluster_density\n",
    "        output_data['intra_cluster_density'] = intra_cluster_density\n",
    "\n",
    "        # return the output values\n",
    "        return output_data\n",
    "\n",
    "    def distance_folder(self, folder_path:str) -> pd.DataFrame:\n",
    "        \"\"\"\n",
    "        Process distance folder containing the files for each value of K.\n",
    "\n",
    "        Parameters\n",
    "        ----------\n",
    "        folder_path : str\n",
    "            The path of the folder to process.\n",
    "\n",
    "        Returns\n",
    "        -------\n",
    "        output_data : pandas.DataFrame\n",
    "            The combined output of each file processed in the folder.\n",
    "        \"\"\"\n",
    "        output_data = pd.DataFrame()\n",
    "\n",
    "        # get the name of the distance measure from the folder path\n",
    "        distance_measure = os.path.split(folder_path)[-1].replace('DistanceMeasure', '')\n",
    "        logging.info('- Distance Measure: %s' % distance_measure)\n",
    "\n",
    "        # process each file\n",
    "        for file_path in os.listdir(folder_path):\n",
    "            # get the data for the folder\n",
    "            folder_data = self.file('%s/%s' % (folder_path, file_path))\n",
    "            \n",
    "            folder_data['distance_measure'] = distance_measure\n",
    "            folder_data['k'] = file_path.replace('.txt', '')\n",
    "            output_data = pd.concat([output_data, folder_data])\n",
    "        \n",
    "        # return the output dataframe\n",
    "        return output_data.reset_index(drop=True)\n",
    "\n",
    "    def cluster_folder(self, folder_path:str) -> pd.DataFrame:\n",
    "        \"\"\"\n",
    "        Process a cluster folder and sub folders.\n",
    "\n",
    "        Parameters\n",
    "        ----------\n",
    "        folder_path : str\n",
    "            The path of the cluster folder to process.\n",
    "\n",
    "        Returns\n",
    "        -------\n",
    "        output_data : pandas.DataFrame\n",
    "            Cluster data output.\n",
    "        \"\"\"\n",
    "        output_data = pd.DataFrame()\n",
    "\n",
    "        # process each folder\n",
    "        for file_path in os.listdir(folder_path):\n",
    "            logging.info(file_path)\n",
    "\n",
    "            # get the data for the folder\n",
    "            folder_data = self.distance_folder('%s/%s' % (folder_path, file_path))\n",
    "            output_data = pd.concat([output_data, folder_data])\n",
    "\n",
    "        # return the output dataframe\n",
    "        return output_data.reset_index(drop=True)\n",
    "\n",
    "\n",
    "# extract the experiment values\n",
    "extract = DataExtraction()\n",
    "df = extract.cluster_folder('output/british-fiction-corpus-clusters')\n",
    "df.sample(n=5)"
   ]
  },
  {
   "cell_type": "code",
   "execution_count": 6,
   "metadata": {},
   "outputs": [],
   "source": [
    "# select k values greater than 2\n",
    "df = df[df['k'] > '02']\n",
    "\n",
    "# convert the density values to float\n",
    "df['inter_cluster_density'] = df['inter_cluster_density'].astype(float)\n",
    "df['intra_cluster_density'] = df['intra_cluster_density'].astype(float)\n",
    "\n",
    "# calculate the density ration\n",
    "df['density_ration'] = df['intra_cluster_density'] / df['inter_cluster_density']\n",
    "\n",
    "# sort the dataset amd reset the index\n",
    "df = df.sort_values(by=['distance_measure', 'k'])\n",
    "df.reset_index(drop=True, inplace=True)"
   ]
  },
  {
   "cell_type": "markdown",
   "metadata": {},
   "source": [
    "Scale the distances per distance measure to allow comparisons to be made."
   ]
  },
  {
   "cell_type": "code",
   "execution_count": 7,
   "metadata": {},
   "outputs": [],
   "source": [
    "def scale_values(values) -> pd.DataFrame:\n",
    "    \"\"\"\n",
    "    Perform scaling on grouped data.\n",
    "    \"\"\"\n",
    "    scaler = preprocessing.StandardScaler()\n",
    "    return pd.DataFrame(scaler.fit_transform(np.atleast_2d(values)), values.index)\n",
    "\n",
    "# scale the values for each distance measure\n",
    "df['scaled_point_distance'] = df.groupby(by=['distance_measure'])[['point_distance']].apply(scale_values)"
   ]
  },
  {
   "cell_type": "code",
   "execution_count": 8,
   "metadata": {},
   "outputs": [
    {
     "data": {
      "text/html": [
       "<div>\n",
       "<style scoped>\n",
       "    .dataframe tbody tr th:only-of-type {\n",
       "        vertical-align: middle;\n",
       "    }\n",
       "\n",
       "    .dataframe tbody tr th {\n",
       "        vertical-align: top;\n",
       "    }\n",
       "\n",
       "    .dataframe thead th {\n",
       "        text-align: right;\n",
       "    }\n",
       "</style>\n",
       "<table border=\"1\" class=\"dataframe\">\n",
       "  <thead>\n",
       "    <tr style=\"text-align: right;\">\n",
       "      <th></th>\n",
       "      <th></th>\n",
       "      <th>point_distance</th>\n",
       "      <th>inter_cluster_density</th>\n",
       "      <th>intra_cluster_density</th>\n",
       "      <th>density_ration</th>\n",
       "      <th>scaled_point_distance</th>\n",
       "    </tr>\n",
       "    <tr>\n",
       "      <th>distance_measure</th>\n",
       "      <th>k</th>\n",
       "      <th></th>\n",
       "      <th></th>\n",
       "      <th></th>\n",
       "      <th></th>\n",
       "      <th></th>\n",
       "    </tr>\n",
       "  </thead>\n",
       "  <tbody>\n",
       "    <tr>\n",
       "      <th rowspan=\"8\" valign=\"top\">Cosine</th>\n",
       "      <th>03</th>\n",
       "      <td>0.439862</td>\n",
       "      <td>0.593657</td>\n",
       "      <td>0.600622</td>\n",
       "      <td>1.011732</td>\n",
       "      <td>0.496213</td>\n",
       "    </tr>\n",
       "    <tr>\n",
       "      <th>04</th>\n",
       "      <td>0.409017</td>\n",
       "      <td>0.623275</td>\n",
       "      <td>0.646378</td>\n",
       "      <td>1.037067</td>\n",
       "      <td>0.310077</td>\n",
       "    </tr>\n",
       "    <tr>\n",
       "      <th>05</th>\n",
       "      <td>0.406567</td>\n",
       "      <td>0.645251</td>\n",
       "      <td>0.562363</td>\n",
       "      <td>0.871542</td>\n",
       "      <td>0.295289</td>\n",
       "    </tr>\n",
       "    <tr>\n",
       "      <th>06</th>\n",
       "      <td>0.362324</td>\n",
       "      <td>0.591802</td>\n",
       "      <td>0.651378</td>\n",
       "      <td>1.100669</td>\n",
       "      <td>0.028301</td>\n",
       "    </tr>\n",
       "    <tr>\n",
       "      <th>07</th>\n",
       "      <td>0.355171</td>\n",
       "      <td>0.596909</td>\n",
       "      <td>0.623863</td>\n",
       "      <td>1.045155</td>\n",
       "      <td>-0.014862</td>\n",
       "    </tr>\n",
       "    <tr>\n",
       "      <th>08</th>\n",
       "      <td>0.312399</td>\n",
       "      <td>0.670177</td>\n",
       "      <td>0.569155</td>\n",
       "      <td>0.849261</td>\n",
       "      <td>-0.272973</td>\n",
       "    </tr>\n",
       "    <tr>\n",
       "      <th>09</th>\n",
       "      <td>0.297806</td>\n",
       "      <td>0.685306</td>\n",
       "      <td>0.569361</td>\n",
       "      <td>0.830813</td>\n",
       "      <td>-0.361033</td>\n",
       "    </tr>\n",
       "    <tr>\n",
       "      <th>10</th>\n",
       "      <td>0.277924</td>\n",
       "      <td>0.690389</td>\n",
       "      <td>0.577542</td>\n",
       "      <td>0.836546</td>\n",
       "      <td>-0.481011</td>\n",
       "    </tr>\n",
       "    <tr>\n",
       "      <th rowspan=\"8\" valign=\"top\">Euclidean</th>\n",
       "      <th>03</th>\n",
       "      <td>1327.703840</td>\n",
       "      <td>0.653869</td>\n",
       "      <td>0.568664</td>\n",
       "      <td>0.869692</td>\n",
       "      <td>0.229295</td>\n",
       "    </tr>\n",
       "    <tr>\n",
       "      <th>04</th>\n",
       "      <td>1247.949380</td>\n",
       "      <td>0.568309</td>\n",
       "      <td>0.617191</td>\n",
       "      <td>1.086013</td>\n",
       "      <td>0.131638</td>\n",
       "    </tr>\n",
       "    <tr>\n",
       "      <th>05</th>\n",
       "      <td>1243.888285</td>\n",
       "      <td>0.505781</td>\n",
       "      <td>0.565252</td>\n",
       "      <td>1.117582</td>\n",
       "      <td>0.126665</td>\n",
       "    </tr>\n",
       "    <tr>\n",
       "      <th>06</th>\n",
       "      <td>1229.522701</td>\n",
       "      <td>0.568568</td>\n",
       "      <td>0.641312</td>\n",
       "      <td>1.127944</td>\n",
       "      <td>0.109075</td>\n",
       "    </tr>\n",
       "    <tr>\n",
       "      <th>07</th>\n",
       "      <td>1070.630564</td>\n",
       "      <td>0.488504</td>\n",
       "      <td>0.562028</td>\n",
       "      <td>1.150508</td>\n",
       "      <td>-0.085484</td>\n",
       "    </tr>\n",
       "    <tr>\n",
       "      <th>08</th>\n",
       "      <td>1100.436515</td>\n",
       "      <td>0.588674</td>\n",
       "      <td>0.720307</td>\n",
       "      <td>1.223610</td>\n",
       "      <td>-0.048988</td>\n",
       "    </tr>\n",
       "    <tr>\n",
       "      <th>09</th>\n",
       "      <td>1067.462959</td>\n",
       "      <td>0.615223</td>\n",
       "      <td>0.625853</td>\n",
       "      <td>1.017279</td>\n",
       "      <td>-0.089363</td>\n",
       "    </tr>\n",
       "    <tr>\n",
       "      <th>10</th>\n",
       "      <td>835.954747</td>\n",
       "      <td>0.466708</td>\n",
       "      <td>0.598039</td>\n",
       "      <td>1.281399</td>\n",
       "      <td>-0.372838</td>\n",
       "    </tr>\n",
       "    <tr>\n",
       "      <th rowspan=\"8\" valign=\"top\">Manhattan</th>\n",
       "      <th>03</th>\n",
       "      <td>48659.989418</td>\n",
       "      <td>0.567701</td>\n",
       "      <td>0.695440</td>\n",
       "      <td>1.225010</td>\n",
       "      <td>0.792881</td>\n",
       "    </tr>\n",
       "    <tr>\n",
       "      <th>04</th>\n",
       "      <td>39000.451499</td>\n",
       "      <td>0.514591</td>\n",
       "      <td>0.665725</td>\n",
       "      <td>1.293697</td>\n",
       "      <td>0.255889</td>\n",
       "    </tr>\n",
       "    <tr>\n",
       "      <th>05</th>\n",
       "      <td>37096.914815</td>\n",
       "      <td>0.468400</td>\n",
       "      <td>0.619657</td>\n",
       "      <td>1.322924</td>\n",
       "      <td>0.150068</td>\n",
       "    </tr>\n",
       "    <tr>\n",
       "      <th>06</th>\n",
       "      <td>33439.232510</td>\n",
       "      <td>0.434544</td>\n",
       "      <td>0.694319</td>\n",
       "      <td>1.597810</td>\n",
       "      <td>-0.053269</td>\n",
       "    </tr>\n",
       "    <tr>\n",
       "      <th>07</th>\n",
       "      <td>32850.362963</td>\n",
       "      <td>0.414859</td>\n",
       "      <td>0.582139</td>\n",
       "      <td>1.403221</td>\n",
       "      <td>-0.086005</td>\n",
       "    </tr>\n",
       "    <tr>\n",
       "      <th>08</th>\n",
       "      <td>30750.889839</td>\n",
       "      <td>0.342714</td>\n",
       "      <td>0.613060</td>\n",
       "      <td>1.788837</td>\n",
       "      <td>-0.202719</td>\n",
       "    </tr>\n",
       "    <tr>\n",
       "      <th>09</th>\n",
       "      <td>28767.135802</td>\n",
       "      <td>0.331979</td>\n",
       "      <td>0.691113</td>\n",
       "      <td>2.081801</td>\n",
       "      <td>-0.312999</td>\n",
       "    </tr>\n",
       "    <tr>\n",
       "      <th>10</th>\n",
       "      <td>24614.618234</td>\n",
       "      <td>0.353031</td>\n",
       "      <td>0.578539</td>\n",
       "      <td>1.638777</td>\n",
       "      <td>-0.543845</td>\n",
       "    </tr>\n",
       "  </tbody>\n",
       "</table>\n",
       "</div>"
      ],
      "text/plain": [
       "                     point_distance  inter_cluster_density  \\\n",
       "distance_measure k                                           \n",
       "Cosine           03        0.439862               0.593657   \n",
       "                 04        0.409017               0.623275   \n",
       "                 05        0.406567               0.645251   \n",
       "                 06        0.362324               0.591802   \n",
       "                 07        0.355171               0.596909   \n",
       "                 08        0.312399               0.670177   \n",
       "                 09        0.297806               0.685306   \n",
       "                 10        0.277924               0.690389   \n",
       "Euclidean        03     1327.703840               0.653869   \n",
       "                 04     1247.949380               0.568309   \n",
       "                 05     1243.888285               0.505781   \n",
       "                 06     1229.522701               0.568568   \n",
       "                 07     1070.630564               0.488504   \n",
       "                 08     1100.436515               0.588674   \n",
       "                 09     1067.462959               0.615223   \n",
       "                 10      835.954747               0.466708   \n",
       "Manhattan        03    48659.989418               0.567701   \n",
       "                 04    39000.451499               0.514591   \n",
       "                 05    37096.914815               0.468400   \n",
       "                 06    33439.232510               0.434544   \n",
       "                 07    32850.362963               0.414859   \n",
       "                 08    30750.889839               0.342714   \n",
       "                 09    28767.135802               0.331979   \n",
       "                 10    24614.618234               0.353031   \n",
       "\n",
       "                     intra_cluster_density  density_ration  \\\n",
       "distance_measure k                                           \n",
       "Cosine           03               0.600622        1.011732   \n",
       "                 04               0.646378        1.037067   \n",
       "                 05               0.562363        0.871542   \n",
       "                 06               0.651378        1.100669   \n",
       "                 07               0.623863        1.045155   \n",
       "                 08               0.569155        0.849261   \n",
       "                 09               0.569361        0.830813   \n",
       "                 10               0.577542        0.836546   \n",
       "Euclidean        03               0.568664        0.869692   \n",
       "                 04               0.617191        1.086013   \n",
       "                 05               0.565252        1.117582   \n",
       "                 06               0.641312        1.127944   \n",
       "                 07               0.562028        1.150508   \n",
       "                 08               0.720307        1.223610   \n",
       "                 09               0.625853        1.017279   \n",
       "                 10               0.598039        1.281399   \n",
       "Manhattan        03               0.695440        1.225010   \n",
       "                 04               0.665725        1.293697   \n",
       "                 05               0.619657        1.322924   \n",
       "                 06               0.694319        1.597810   \n",
       "                 07               0.582139        1.403221   \n",
       "                 08               0.613060        1.788837   \n",
       "                 09               0.691113        2.081801   \n",
       "                 10               0.578539        1.638777   \n",
       "\n",
       "                     scaled_point_distance  \n",
       "distance_measure k                          \n",
       "Cosine           03               0.496213  \n",
       "                 04               0.310077  \n",
       "                 05               0.295289  \n",
       "                 06               0.028301  \n",
       "                 07              -0.014862  \n",
       "                 08              -0.272973  \n",
       "                 09              -0.361033  \n",
       "                 10              -0.481011  \n",
       "Euclidean        03               0.229295  \n",
       "                 04               0.131638  \n",
       "                 05               0.126665  \n",
       "                 06               0.109075  \n",
       "                 07              -0.085484  \n",
       "                 08              -0.048988  \n",
       "                 09              -0.089363  \n",
       "                 10              -0.372838  \n",
       "Manhattan        03               0.792881  \n",
       "                 04               0.255889  \n",
       "                 05               0.150068  \n",
       "                 06              -0.053269  \n",
       "                 07              -0.086005  \n",
       "                 08              -0.202719  \n",
       "                 09              -0.312999  \n",
       "                 10              -0.543845  "
      ]
     },
     "execution_count": 8,
     "metadata": {},
     "output_type": "execute_result"
    }
   ],
   "source": [
    "# group by the distance measure and k\n",
    "df_dist_mean = df.groupby(by=['distance_measure', 'k']).aggregate('mean')\n",
    "df_dist_mean.query('distance_measure == [\"Cosine\",\"Euclidean\",\"Manhattan\"]')"
   ]
  },
  {
   "cell_type": "markdown",
   "metadata": {},
   "source": [
    "#### Verifying the relation between the average distance to the centroid and the K value\n",
    "\n",
    "In the plot below the progress of the average distance to the centroid of points is shown for all distance measures, Cosine, Euclidean and Manhattan. We can see that as the number of k increases the average point distance for all distance measures decreases."
   ]
  },
  {
   "cell_type": "code",
   "execution_count": 9,
   "metadata": {},
   "outputs": [
    {
     "data": {
      "text/plain": [
       "[Text(0.5, 1.0, 'Average Point Distance (scaled)'),\n",
       " Text(0.5, 0, 'K'),\n",
       " Text(0, 0.5, 'Distance from Centroid')]"
      ]
     },
     "execution_count": 9,
     "metadata": {},
     "output_type": "execute_result"
    },
    {
     "data": {
      "image/png": "[encoded data removed]",
      "text/plain": [
       "<Figure size 432x288 with 1 Axes>"
      ]
     },
     "metadata": {
      "needs_background": "light"
     },
     "output_type": "display_data"
    }
   ],
   "source": [
    "sns.lineplot(\n",
    "    data=df_dist_mean,\n",
    "    x='k',\n",
    "    y='scaled_point_distance',\n",
    "    hue='distance_measure',\n",
    "    style='distance_measure',\n",
    "    linewidth=2.5).set(\n",
    "        title='Average Point Distance (scaled)',\n",
    "        xlabel='K',\n",
    "        ylabel='Distance from Centroid')"
   ]
  },
  {
   "cell_type": "markdown",
   "metadata": {},
   "source": [
    "#### Finding best setting for K-Means clustering comparing different clusters obtained with different distance measures"
   ]
  },
  {
   "cell_type": "markdown",
   "metadata": {},
   "source": [
    "To decide which is the best setting for k-means clustering for this dataset we need to analyse the inter cluster, intra cluster density and density ratio extracted from the Mahout cluster dumps. The best setting is the one that produces clusters where the data points are similar and therefore densely packed. Furthermore, the best setting produces clusters that are different between them. So, in our case the best distance measure has the lowest inter cluster density and the highest intra cluster and density ratio."
   ]
  },
  {
   "cell_type": "markdown",
   "metadata": {},
   "source": [
    "##### Inter Cluster Density\n",
    "In the following plot, in the case of Euclidean and Manhattan distance measures the inter cluster density correctly decreases with higher k values, with Manhattan being the best distance measure because it reaches lower values. However for the Cosine distance measure, the trend seems to be positive and there is a lot of fluctuation."
   ]
  },
  {
   "cell_type": "code",
   "execution_count": 10,
   "metadata": {},
   "outputs": [
    {
     "data": {
      "text/plain": [
       "[Text(0.5, 1.0, 'Inter Cluster Density'),\n",
       " Text(0.5, 0, 'K'),\n",
       " Text(0, 0.5, 'Density')]"
      ]
     },
     "execution_count": 10,
     "metadata": {},
     "output_type": "execute_result"
    },
    {
     "data": {
      "image/png": "[encoded data removed]",
      "text/plain": [
       "<Figure size 720x432 with 1 Axes>"
      ]
     },
     "metadata": {},
     "output_type": "display_data"
    }
   ],
   "source": [
    "sns.set(rc={\"figure.figsize\":(10, 6)})\n",
    "\n",
    "# plot inter cluster density\n",
    "sns.lineplot(\n",
    "    data=df_dist_mean,\n",
    "    x='k',\n",
    "    y='inter_cluster_density',\n",
    "    hue='distance_measure',\n",
    "    style='distance_measure',\n",
    "    linewidth=2.5).set(\n",
    "        title='Inter Cluster Density',\n",
    "        xlabel='K',\n",
    "        ylabel='Density')"
   ]
  },
  {
   "cell_type": "markdown",
   "metadata": {},
   "source": [
    "##### Intra Cluster Density\n",
    "The intra cluster density plot is not very informative since no clear trend can be detected for any of the distance measures and ther is a lot of fluctuation in all cases. In this case to decide the best distance measure we need to try a higher number of k."
   ]
  },
  {
   "cell_type": "code",
   "execution_count": 11,
   "metadata": {},
   "outputs": [
    {
     "data": {
      "text/plain": [
       "[Text(0.5, 1.0, 'Intra Cluster Density'),\n",
       " Text(0.5, 0, 'K'),\n",
       " Text(0, 0.5, 'Density')]"
      ]
     },
     "execution_count": 11,
     "metadata": {},
     "output_type": "execute_result"
    },
    {
     "data": {
      "image/png": "[encoded data removed]",
      "text/plain": [
       "<Figure size 720x432 with 1 Axes>"
      ]
     },
     "metadata": {},
     "output_type": "display_data"
    }
   ],
   "source": [
    "# plot intra cluster density\n",
    "sns.lineplot(\n",
    "    data=df_dist_mean,\n",
    "    x='k',\n",
    "    y='intra_cluster_density',\n",
    "    hue='distance_measure',\n",
    "    style='distance_measure',\n",
    "    linewidth=2.5).set(\n",
    "        title='Intra Cluster Density',\n",
    "        xlabel='K',\n",
    "        ylabel='Density')"
   ]
  },
  {
   "cell_type": "markdown",
   "metadata": {},
   "source": [
    "##### Density Ratio\n",
    "The density ratio is calculated from the intra cluster and inter cluster density.\n",
    "\n",
    "$$ density\\ ratio = {intra\\ cluster \\over inter\\ cluster}$$\n",
    "\n",
    "This measure is higher for cluster settings with high intra cluster density and low inter cluster density. In this case the Manhattan and Euclidean distance measures have a positive trend with Manhattan reaching higher values, while the Cosine distance measure experiences a negative trend."
   ]
  },
  {
   "cell_type": "code",
   "execution_count": 12,
   "metadata": {},
   "outputs": [
    {
     "data": {
      "text/plain": [
       "[Text(0.5, 1.0, 'Density Ratio'), Text(0.5, 0, 'K'), Text(0, 0.5, 'Ratio')]"
      ]
     },
     "execution_count": 12,
     "metadata": {},
     "output_type": "execute_result"
    },
    {
     "data": {
      "image/png": "[encoded data removed]",
      "text/plain": [
       "<Figure size 720x432 with 1 Axes>"
      ]
     },
     "metadata": {},
     "output_type": "display_data"
    }
   ],
   "source": [
    "# plot density\n",
    "sns.lineplot(\n",
    "    data=df_dist_mean,\n",
    "    x='k',\n",
    "    y='density_ration',\n",
    "    hue='distance_measure',\n",
    "    style='distance_measure',\n",
    "    linewidth=2.5).set(\n",
    "        title='Density Ratio',\n",
    "        xlabel='K',\n",
    "        ylabel='Ratio')"
   ]
  },
  {
   "cell_type": "markdown",
   "metadata": {},
   "source": [
    "To conclude, after computing the experiments above we can say that the best distance measure is Manhattan because it has higher intra cluster density and density ratio. Another good distance measure is the Euclidean distance measure while Cosine performed the worst in all experiments. However to produce more significant results would be necessary to extend the number of k's taken into consideration."
   ]
  },
  {
   "cell_type": "markdown",
   "metadata": {},
   "source": [
    "#### Find the optimum number (K) of clusters using the elbow graph\n",
    "\n",
    "One way of finding the optimum number of clusters for the k-mean clustering is the Elbow Method. It is often used to determine the point of diminishing returns for selecting the K value. \n",
    "The Elbow method allows to find the optimal number of clusters, by using the concept of WCSS value. WCSS stands for Within Cluster Sum of Squares and defines the total variations within a cluster.\n",
    "To find the optimal number of clusters, the elbow method involves the following steps:\n",
    "\n",
    "1. Runs the clustering algorithm for different K values.\n",
    "2. Calculates the sum of squares WCSS value for each K.\n",
    "3. Plots a curve between sum of squares values and the number of clusters K.\n",
    "4. The sharp point of bend is then considered as the best value of the number of clusters K.\n",
    "\n",
    "For the cosine and euclidean distance measures the elbow point is not so clear, so to find the optimum number of k we might need to try a larger number of k. For the Manhattan distance measure we could say that the optimum number of k is 8."
   ]
  },
  {
   "cell_type": "code",
   "execution_count": 13,
   "metadata": {},
   "outputs": [
    {
     "data": {
      "text/plain": [
       "[Text(0.5, 0, 'K'), Text(0, 0.5, 'Sum of squared distance')]"
      ]
     },
     "execution_count": 13,
     "metadata": {},
     "output_type": "execute_result"
    },
    {
     "data": {
      "image/png": "[encoded data removed]",
      "text/plain": [
       "<Figure size 1152x576 with 4 Axes>"
      ]
     },
     "metadata": {},
     "output_type": "display_data"
    }
   ],
   "source": [
    "# add a column for the squared distances\n",
    "df['squared_distance'] = df['point_distance'] **2\n",
    "\n",
    "# create the grouping to draw the chart for the elbow method\n",
    "df_distance = df.groupby(by=['distance_measure', 'k']).aggregate('sum')\n",
    "\n",
    "def plt_elbow(distance_measure:str, axes=None):\n",
    "    \"\"\"\n",
    "    Plot squared distance from centroid.\n",
    "    \"\"\"\n",
    "    plt = sns.lineplot(\n",
    "        data=df_distance.query('distance_measure == @distance_measure'),\n",
    "        x='k',\n",
    "        y='squared_distance',\n",
    "        ax=axes,\n",
    "        linewidth=2.5)\n",
    "\n",
    "    plt.set(\n",
    "        title=distance_measure,\n",
    "        xlabel='',\n",
    "        ylabel='')\n",
    "\n",
    "    return plt\n",
    "\n",
    "# subplot function\n",
    "figure, axis = plt.subplots(2, 2, figsize=(16, 8))\n",
    "figure.suptitle('Elbow Method')\n",
    "\n",
    "# plots for each distance measure\n",
    "plt_elbow('Cosine', axes=axis[0,0]).set(ylabel='Sum of squared distance')\n",
    "plt_elbow('Euclidean', axes=axis[0,1]).set(xlabel='K', ylabel='Sum of squared distance')\n",
    "plt_elbow('Manhattan', axes=axis[1,0]).set(xlabel='K', ylabel='Sum of squared distance')"
   ]
  },
  {
   "cell_type": "markdown",
   "metadata": {},
   "source": [
    "<a id=\"3\"></a>\n",
    "### References"
   ]
  },
  {
   "cell_type": "markdown",
   "metadata": {},
   "source": [
    "1. What is Apache MapReduce? IBM. Available at: https://www.ibm.com/topics/mapreduce (Accessed: December 20, 2022).\n",
    "2. Kalavri, Vasiliki & Vlassov, Vladimir. (2013). MapReduce: Limitations, Optimizations and Open Issues. 1031-1038. 10.1109/TrustCom.2013.126.\n",
    "3. Expert, E.R.P. (2022) Apache Mahout (workflow, features, Pros, and cons), ERP Information. Available at: https://www.erp-information.com/apache-mahout#Cons (Accessed: December 20, 2022).\n",
    "4. Abid, E.B. (2022) Top 10 best machine learning tools (pros and cons), Cloud Infrastructure Services. Available at: https://cloudinfrastructureservices.co.uk/best-machine-learning-tools/ (Accessed: December 20, 2022). "
   ]
  },
  {
   "cell_type": "markdown",
   "metadata": {},
   "source": [
    "[Back to top](#0)"
   ]
  }
 ],
 "metadata": {
  "kernelspec": {
   "display_name": "Python 3 (ipykernel)",
   "language": "python",
   "name": "python3"
  },
  "language_info": {
   "codemirror_mode": {
    "name": "ipython",
    "version": 3
   },
   "file_extension": ".py",
   "mimetype": "text/x-python",
   "name": "python",
   "nbconvert_exporter": "python",
   "pygments_lexer": "ipython3",
   "version": "3.9.7"
  }
 },
 "nbformat": 4,
 "nbformat_minor": 4
}
